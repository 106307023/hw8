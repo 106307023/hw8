{
 "cells": [
  {
   "cell_type": "code",
   "execution_count": 7,
   "metadata": {},
   "outputs": [
    {
     "name": "stdout",
     "output_type": "stream",
     "text": [
      "                               Film  Year           Actor            Director  \\\n",
      "0                            Dr. No  1962    Sean Connery       Terence Young   \n",
      "1             From Russia with Love  1963    Sean Connery       Terence Young   \n",
      "2                        Goldfinger  1964    Sean Connery        Guy Hamilton   \n",
      "3                       Thunderball  1965    Sean Connery       Terence Young   \n",
      "4                     Casino Royale  1967     David Niven          Ken Hughes   \n",
      "5               You Only Live Twice  1967    Sean Connery       Lewis Gilbert   \n",
      "6   On Her Majesty's Secret Service  1969  George Lazenby       Peter R. Hunt   \n",
      "7              Diamonds Are Forever  1971    Sean Connery        Guy Hamilton   \n",
      "8                  Live and Let Die  1973     Roger Moore        Guy Hamilton   \n",
      "9       The Man with the Golden Gun  1974     Roger Moore        Guy Hamilton   \n",
      "10             The Spy Who Loved Me  1977     Roger Moore       Lewis Gilbert   \n",
      "11                        Moonraker  1979     Roger Moore       Lewis Gilbert   \n",
      "12               For Your Eyes Only  1981     Roger Moore           John Glen   \n",
      "13            Never Say Never Again  1983    Sean Connery      Irvin Kershner   \n",
      "14                        Octopussy  1983     Roger Moore           John Glen   \n",
      "15                 A View to a Kill  1985     Roger Moore           John Glen   \n",
      "16             The Living Daylights  1987  Timothy Dalton           John Glen   \n",
      "17                  Licence to Kill  1989  Timothy Dalton           John Glen   \n",
      "18                        GoldenEye  1995  Pierce Brosnan     Martin Campbell   \n",
      "19              Tomorrow Never Dies  1997  Pierce Brosnan  Roger Spottiswoode   \n",
      "20          The World Is Not Enough  1999  Pierce Brosnan       Michael Apted   \n",
      "21                  Die Another Day  2002  Pierce Brosnan        Lee Tamahori   \n",
      "22                    Casino Royale  2006    Daniel Craig     Martin Campbell   \n",
      "23                Quantum of Solace  2008    Daniel Craig        Marc Forster   \n",
      "24                          Skyfall  2012    Daniel Craig          Sam Mendes   \n",
      "25                          Spectre  2015    Daniel Craig          Sam Mendes   \n",
      "\n",
      "    Box Office  Budget  Bond Actor Salary  \n",
      "0        448.8     7.0                0.6  \n",
      "1        543.8    12.6                1.6  \n",
      "2        820.4    18.6                3.2  \n",
      "3        848.1    41.9                4.7  \n",
      "4        315.0    85.0                NaN  \n",
      "5        514.2    59.9                4.4  \n",
      "6        291.5    37.3                0.6  \n",
      "7        442.5    34.7                5.8  \n",
      "8        460.3    30.8                NaN  \n",
      "9        334.0    27.7                NaN  \n",
      "10       533.0    45.1                NaN  \n",
      "11       535.0    91.5                NaN  \n",
      "12       449.4    60.2                NaN  \n",
      "13       380.0    86.0                NaN  \n",
      "14       373.8    53.9                7.8  \n",
      "15       275.2    54.5                9.1  \n",
      "16       313.5    68.8                5.2  \n",
      "17       250.9    56.7                7.9  \n",
      "18       518.5    76.9                5.1  \n",
      "19       463.2   133.9               10.0  \n",
      "20       439.5   158.3               13.5  \n",
      "21       465.4   154.2               17.9  \n",
      "22       581.5   145.3                3.3  \n",
      "23       514.2   181.4                8.1  \n",
      "24       943.5   170.2               14.5  \n",
      "25       726.7   206.3                NaN  \n"
     ]
    }
   ],
   "source": [
    "import pandas as pd\n",
    "df = pd.read_csv('./jamesbond.csv')\n",
    "print(df)"
   ]
  },
  {
   "cell_type": "code",
   "execution_count": null,
   "metadata": {},
   "outputs": [],
   "source": [
    "#最賣座"
   ]
  },
  {
   "cell_type": "code",
   "execution_count": 12,
   "metadata": {},
   "outputs": [
    {
     "data": {
      "text/html": [
       "<div>\n",
       "<style scoped>\n",
       "    .dataframe tbody tr th:only-of-type {\n",
       "        vertical-align: middle;\n",
       "    }\n",
       "\n",
       "    .dataframe tbody tr th {\n",
       "        vertical-align: top;\n",
       "    }\n",
       "\n",
       "    .dataframe thead th {\n",
       "        text-align: right;\n",
       "    }\n",
       "</style>\n",
       "<table border=\"1\" class=\"dataframe\">\n",
       "  <thead>\n",
       "    <tr style=\"text-align: right;\">\n",
       "      <th></th>\n",
       "      <th>Film</th>\n",
       "      <th>Year</th>\n",
       "      <th>Actor</th>\n",
       "      <th>Director</th>\n",
       "      <th>Box Office</th>\n",
       "      <th>Budget</th>\n",
       "      <th>Bond Actor Salary</th>\n",
       "    </tr>\n",
       "  </thead>\n",
       "  <tbody>\n",
       "    <tr>\n",
       "      <th>24</th>\n",
       "      <td>Skyfall</td>\n",
       "      <td>2012</td>\n",
       "      <td>Daniel Craig</td>\n",
       "      <td>Sam Mendes</td>\n",
       "      <td>943.5</td>\n",
       "      <td>170.2</td>\n",
       "      <td>14.5</td>\n",
       "    </tr>\n",
       "  </tbody>\n",
       "</table>\n",
       "</div>"
      ],
      "text/plain": [
       "       Film  Year         Actor    Director  Box Office  Budget  \\\n",
       "24  Skyfall  2012  Daniel Craig  Sam Mendes       943.5   170.2   \n",
       "\n",
       "    Bond Actor Salary  \n",
       "24               14.5  "
      ]
     },
     "execution_count": 12,
     "metadata": {},
     "output_type": "execute_result"
    }
   ],
   "source": [
    "df[df['Box Office']==df['Box Office'].max()]"
   ]
  },
  {
   "cell_type": "code",
   "execution_count": null,
   "metadata": {},
   "outputs": [],
   "source": [
    "#主角賺最多"
   ]
  },
  {
   "cell_type": "code",
   "execution_count": 15,
   "metadata": {},
   "outputs": [
    {
     "data": {
      "text/html": [
       "<div>\n",
       "<style scoped>\n",
       "    .dataframe tbody tr th:only-of-type {\n",
       "        vertical-align: middle;\n",
       "    }\n",
       "\n",
       "    .dataframe tbody tr th {\n",
       "        vertical-align: top;\n",
       "    }\n",
       "\n",
       "    .dataframe thead th {\n",
       "        text-align: right;\n",
       "    }\n",
       "</style>\n",
       "<table border=\"1\" class=\"dataframe\">\n",
       "  <thead>\n",
       "    <tr style=\"text-align: right;\">\n",
       "      <th></th>\n",
       "      <th>Film</th>\n",
       "      <th>Year</th>\n",
       "      <th>Actor</th>\n",
       "      <th>Director</th>\n",
       "      <th>Box Office</th>\n",
       "      <th>Budget</th>\n",
       "      <th>Bond Actor Salary</th>\n",
       "    </tr>\n",
       "  </thead>\n",
       "  <tbody>\n",
       "    <tr>\n",
       "      <th>21</th>\n",
       "      <td>Die Another Day</td>\n",
       "      <td>2002</td>\n",
       "      <td>Pierce Brosnan</td>\n",
       "      <td>Lee Tamahori</td>\n",
       "      <td>465.4</td>\n",
       "      <td>154.2</td>\n",
       "      <td>17.9</td>\n",
       "    </tr>\n",
       "  </tbody>\n",
       "</table>\n",
       "</div>"
      ],
      "text/plain": [
       "               Film  Year           Actor      Director  Box Office  Budget  \\\n",
       "21  Die Another Day  2002  Pierce Brosnan  Lee Tamahori       465.4   154.2   \n",
       "\n",
       "    Bond Actor Salary  \n",
       "21               17.9  "
      ]
     },
     "execution_count": 15,
     "metadata": {},
     "output_type": "execute_result"
    }
   ],
   "source": [
    "df[df['Bond Actor Salary']==df['Bond Actor Salary'].max()]"
   ]
  }
 ],
 "metadata": {
  "kernelspec": {
   "display_name": "Python 3",
   "language": "python",
   "name": "python3"
  },
  "language_info": {
   "codemirror_mode": {
    "name": "ipython",
    "version": 3
   },
   "file_extension": ".py",
   "mimetype": "text/x-python",
   "name": "python",
   "nbconvert_exporter": "python",
   "pygments_lexer": "ipython3",
   "version": "3.6.4"
  }
 },
 "nbformat": 4,
 "nbformat_minor": 2
}
